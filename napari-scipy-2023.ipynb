{
 "cells": [
  {
   "cell_type": "markdown",
   "id": "3078fb91",
   "metadata": {},
   "source": [
    "# View, annotate, and analyze multi-dimensional images in Python with napari"
   ]
  },
  {
   "cell_type": "markdown",
   "id": "160bddb6",
   "metadata": {},
   "source": [
    "## 1. A *fast* 2D viewer"
   ]
  },
  {
   "cell_type": "code",
   "execution_count": 1,
   "id": "9a24c795",
   "metadata": {},
   "outputs": [],
   "source": [
    "import numpy as np\n",
    "import matplotlib.pyplot as plt\n",
    "import napari"
   ]
  },
  {
   "cell_type": "code",
   "execution_count": 2,
   "id": "b76f31c6",
   "metadata": {},
   "outputs": [],
   "source": [
    "import tifffile\n",
    "\n",
    "image = tifffile.imread(\n",
    "    '/Users/jni/projects/demos/spatialdata-sandbox/'\n",
    "    'visium_io/data/Visium_Mouse_Olfactory_Bulb_image.tif'\n",
    ")"
   ]
  },
  {
   "cell_type": "code",
   "execution_count": 3,
   "id": "64b0b763",
   "metadata": {},
   "outputs": [
    {
     "data": {
      "text/plain": [
       "(10000, 10000, 4)"
      ]
     },
     "execution_count": 3,
     "metadata": {},
     "output_type": "execute_result"
    }
   ],
   "source": [
    "image.shape"
   ]
  },
  {
   "cell_type": "code",
   "execution_count": 4,
   "id": "ebf04593",
   "metadata": {},
   "outputs": [],
   "source": [
    "%matplotlib qt"
   ]
  },
  {
   "cell_type": "code",
   "execution_count": 5,
   "id": "62272b40",
   "metadata": {},
   "outputs": [
    {
     "data": {
      "text/plain": [
       "<matplotlib.image.AxesImage at 0x177b4cd00>"
      ]
     },
     "execution_count": 5,
     "metadata": {},
     "output_type": "execute_result"
    }
   ],
   "source": [
    "plt.imshow(image)"
   ]
  },
  {
   "cell_type": "code",
   "execution_count": 4,
   "id": "378b0a1d",
   "metadata": {},
   "outputs": [
    {
     "name": "stderr",
     "output_type": "stream",
     "text": [
      "/Users/jni/conda/envs/all/lib/python3.10/site-packages/plateseg/watershed.py:95: NumbaDeprecationWarning: \u001b[1mThe 'nopython' keyword argument was not supplied to the 'numba.jit' decorator. The implicit default value for this argument is currently False, but it will be changed to True in Numba 0.59.0. See https://numba.readthedocs.io/en/stable/reference/deprecation.html#deprecation-of-object-mode-fall-back-behaviour-when-using-jit for details.\u001b[0m\n",
      "  @numba.jit(cache=True)\n"
     ]
    }
   ],
   "source": [
    "viewer, layer = napari.imshow(image)"
   ]
  },
  {
   "cell_type": "markdown",
   "id": "5c993d72",
   "metadata": {},
   "source": [
    "## 2. a *multidimensional* viewer"
   ]
  },
  {
   "cell_type": "code",
   "execution_count": 7,
   "id": "0140b861",
   "metadata": {},
   "outputs": [
    {
     "data": {
      "text/plain": [
       "(60, 2, 256, 256)"
      ]
     },
     "execution_count": 7,
     "metadata": {},
     "output_type": "execute_result"
    }
   ],
   "source": [
    "from skimage import data\n",
    "\n",
    "cells = data.cells3d()\n",
    "\n",
    "cells.shape"
   ]
  },
  {
   "cell_type": "code",
   "execution_count": null,
   "id": "ec633b57",
   "metadata": {},
   "outputs": [],
   "source": [
    "data.cells3d?"
   ]
  },
  {
   "cell_type": "code",
   "execution_count": 8,
   "id": "fc973d57",
   "metadata": {},
   "outputs": [
    {
     "ename": "TypeError",
     "evalue": "Invalid shape (60, 2, 256, 256) for image data",
     "output_type": "error",
     "traceback": [
      "\u001b[0;31m---------------------------------------------------------------------------\u001b[0m",
      "\u001b[0;31mTypeError\u001b[0m                                 Traceback (most recent call last)",
      "Cell \u001b[0;32mIn[8], line 1\u001b[0m\n\u001b[0;32m----> 1\u001b[0m \u001b[43mplt\u001b[49m\u001b[38;5;241;43m.\u001b[39;49m\u001b[43mimshow\u001b[49m\u001b[43m(\u001b[49m\u001b[43mcells\u001b[49m\u001b[43m)\u001b[49m\n",
      "File \u001b[0;32m~/conda/envs/image-analysis-23/lib/python3.10/site-packages/matplotlib/pyplot.py:2695\u001b[0m, in \u001b[0;36mimshow\u001b[0;34m(X, cmap, norm, aspect, interpolation, alpha, vmin, vmax, origin, extent, interpolation_stage, filternorm, filterrad, resample, url, data, **kwargs)\u001b[0m\n\u001b[1;32m   2689\u001b[0m \u001b[38;5;129m@_copy_docstring_and_deprecators\u001b[39m(Axes\u001b[38;5;241m.\u001b[39mimshow)\n\u001b[1;32m   2690\u001b[0m \u001b[38;5;28;01mdef\u001b[39;00m \u001b[38;5;21mimshow\u001b[39m(\n\u001b[1;32m   2691\u001b[0m         X, cmap\u001b[38;5;241m=\u001b[39m\u001b[38;5;28;01mNone\u001b[39;00m, norm\u001b[38;5;241m=\u001b[39m\u001b[38;5;28;01mNone\u001b[39;00m, \u001b[38;5;241m*\u001b[39m, aspect\u001b[38;5;241m=\u001b[39m\u001b[38;5;28;01mNone\u001b[39;00m, interpolation\u001b[38;5;241m=\u001b[39m\u001b[38;5;28;01mNone\u001b[39;00m,\n\u001b[1;32m   2692\u001b[0m         alpha\u001b[38;5;241m=\u001b[39m\u001b[38;5;28;01mNone\u001b[39;00m, vmin\u001b[38;5;241m=\u001b[39m\u001b[38;5;28;01mNone\u001b[39;00m, vmax\u001b[38;5;241m=\u001b[39m\u001b[38;5;28;01mNone\u001b[39;00m, origin\u001b[38;5;241m=\u001b[39m\u001b[38;5;28;01mNone\u001b[39;00m, extent\u001b[38;5;241m=\u001b[39m\u001b[38;5;28;01mNone\u001b[39;00m,\n\u001b[1;32m   2693\u001b[0m         interpolation_stage\u001b[38;5;241m=\u001b[39m\u001b[38;5;28;01mNone\u001b[39;00m, filternorm\u001b[38;5;241m=\u001b[39m\u001b[38;5;28;01mTrue\u001b[39;00m, filterrad\u001b[38;5;241m=\u001b[39m\u001b[38;5;241m4.0\u001b[39m,\n\u001b[1;32m   2694\u001b[0m         resample\u001b[38;5;241m=\u001b[39m\u001b[38;5;28;01mNone\u001b[39;00m, url\u001b[38;5;241m=\u001b[39m\u001b[38;5;28;01mNone\u001b[39;00m, data\u001b[38;5;241m=\u001b[39m\u001b[38;5;28;01mNone\u001b[39;00m, \u001b[38;5;241m*\u001b[39m\u001b[38;5;241m*\u001b[39mkwargs):\n\u001b[0;32m-> 2695\u001b[0m     __ret \u001b[38;5;241m=\u001b[39m \u001b[43mgca\u001b[49m\u001b[43m(\u001b[49m\u001b[43m)\u001b[49m\u001b[38;5;241;43m.\u001b[39;49m\u001b[43mimshow\u001b[49m\u001b[43m(\u001b[49m\n\u001b[1;32m   2696\u001b[0m \u001b[43m        \u001b[49m\u001b[43mX\u001b[49m\u001b[43m,\u001b[49m\u001b[43m \u001b[49m\u001b[43mcmap\u001b[49m\u001b[38;5;241;43m=\u001b[39;49m\u001b[43mcmap\u001b[49m\u001b[43m,\u001b[49m\u001b[43m \u001b[49m\u001b[43mnorm\u001b[49m\u001b[38;5;241;43m=\u001b[39;49m\u001b[43mnorm\u001b[49m\u001b[43m,\u001b[49m\u001b[43m \u001b[49m\u001b[43maspect\u001b[49m\u001b[38;5;241;43m=\u001b[39;49m\u001b[43maspect\u001b[49m\u001b[43m,\u001b[49m\n\u001b[1;32m   2697\u001b[0m \u001b[43m        \u001b[49m\u001b[43minterpolation\u001b[49m\u001b[38;5;241;43m=\u001b[39;49m\u001b[43minterpolation\u001b[49m\u001b[43m,\u001b[49m\u001b[43m \u001b[49m\u001b[43malpha\u001b[49m\u001b[38;5;241;43m=\u001b[39;49m\u001b[43malpha\u001b[49m\u001b[43m,\u001b[49m\u001b[43m \u001b[49m\u001b[43mvmin\u001b[49m\u001b[38;5;241;43m=\u001b[39;49m\u001b[43mvmin\u001b[49m\u001b[43m,\u001b[49m\n\u001b[1;32m   2698\u001b[0m \u001b[43m        \u001b[49m\u001b[43mvmax\u001b[49m\u001b[38;5;241;43m=\u001b[39;49m\u001b[43mvmax\u001b[49m\u001b[43m,\u001b[49m\u001b[43m \u001b[49m\u001b[43morigin\u001b[49m\u001b[38;5;241;43m=\u001b[39;49m\u001b[43morigin\u001b[49m\u001b[43m,\u001b[49m\u001b[43m \u001b[49m\u001b[43mextent\u001b[49m\u001b[38;5;241;43m=\u001b[39;49m\u001b[43mextent\u001b[49m\u001b[43m,\u001b[49m\n\u001b[1;32m   2699\u001b[0m \u001b[43m        \u001b[49m\u001b[43minterpolation_stage\u001b[49m\u001b[38;5;241;43m=\u001b[39;49m\u001b[43minterpolation_stage\u001b[49m\u001b[43m,\u001b[49m\n\u001b[1;32m   2700\u001b[0m \u001b[43m        \u001b[49m\u001b[43mfilternorm\u001b[49m\u001b[38;5;241;43m=\u001b[39;49m\u001b[43mfilternorm\u001b[49m\u001b[43m,\u001b[49m\u001b[43m \u001b[49m\u001b[43mfilterrad\u001b[49m\u001b[38;5;241;43m=\u001b[39;49m\u001b[43mfilterrad\u001b[49m\u001b[43m,\u001b[49m\u001b[43m \u001b[49m\u001b[43mresample\u001b[49m\u001b[38;5;241;43m=\u001b[39;49m\u001b[43mresample\u001b[49m\u001b[43m,\u001b[49m\n\u001b[1;32m   2701\u001b[0m \u001b[43m        \u001b[49m\u001b[43murl\u001b[49m\u001b[38;5;241;43m=\u001b[39;49m\u001b[43murl\u001b[49m\u001b[43m,\u001b[49m\u001b[43m \u001b[49m\u001b[38;5;241;43m*\u001b[39;49m\u001b[38;5;241;43m*\u001b[39;49m\u001b[43m(\u001b[49m\u001b[43m{\u001b[49m\u001b[38;5;124;43m\"\u001b[39;49m\u001b[38;5;124;43mdata\u001b[39;49m\u001b[38;5;124;43m\"\u001b[39;49m\u001b[43m:\u001b[49m\u001b[43m \u001b[49m\u001b[43mdata\u001b[49m\u001b[43m}\u001b[49m\u001b[43m \u001b[49m\u001b[38;5;28;43;01mif\u001b[39;49;00m\u001b[43m \u001b[49m\u001b[43mdata\u001b[49m\u001b[43m \u001b[49m\u001b[38;5;129;43;01mis\u001b[39;49;00m\u001b[43m \u001b[49m\u001b[38;5;129;43;01mnot\u001b[39;49;00m\u001b[43m \u001b[49m\u001b[38;5;28;43;01mNone\u001b[39;49;00m\u001b[43m \u001b[49m\u001b[38;5;28;43;01melse\u001b[39;49;00m\u001b[43m \u001b[49m\u001b[43m{\u001b[49m\u001b[43m}\u001b[49m\u001b[43m)\u001b[49m\u001b[43m,\u001b[49m\n\u001b[1;32m   2702\u001b[0m \u001b[43m        \u001b[49m\u001b[38;5;241;43m*\u001b[39;49m\u001b[38;5;241;43m*\u001b[39;49m\u001b[43mkwargs\u001b[49m\u001b[43m)\u001b[49m\n\u001b[1;32m   2703\u001b[0m     sci(__ret)\n\u001b[1;32m   2704\u001b[0m     \u001b[38;5;28;01mreturn\u001b[39;00m __ret\n",
      "File \u001b[0;32m~/conda/envs/image-analysis-23/lib/python3.10/site-packages/matplotlib/__init__.py:1446\u001b[0m, in \u001b[0;36m_preprocess_data.<locals>.inner\u001b[0;34m(ax, data, *args, **kwargs)\u001b[0m\n\u001b[1;32m   1443\u001b[0m \u001b[38;5;129m@functools\u001b[39m\u001b[38;5;241m.\u001b[39mwraps(func)\n\u001b[1;32m   1444\u001b[0m \u001b[38;5;28;01mdef\u001b[39;00m \u001b[38;5;21minner\u001b[39m(ax, \u001b[38;5;241m*\u001b[39margs, data\u001b[38;5;241m=\u001b[39m\u001b[38;5;28;01mNone\u001b[39;00m, \u001b[38;5;241m*\u001b[39m\u001b[38;5;241m*\u001b[39mkwargs):\n\u001b[1;32m   1445\u001b[0m     \u001b[38;5;28;01mif\u001b[39;00m data \u001b[38;5;129;01mis\u001b[39;00m \u001b[38;5;28;01mNone\u001b[39;00m:\n\u001b[0;32m-> 1446\u001b[0m         \u001b[38;5;28;01mreturn\u001b[39;00m \u001b[43mfunc\u001b[49m\u001b[43m(\u001b[49m\u001b[43max\u001b[49m\u001b[43m,\u001b[49m\u001b[43m \u001b[49m\u001b[38;5;241;43m*\u001b[39;49m\u001b[38;5;28;43mmap\u001b[39;49m\u001b[43m(\u001b[49m\u001b[43msanitize_sequence\u001b[49m\u001b[43m,\u001b[49m\u001b[43m \u001b[49m\u001b[43margs\u001b[49m\u001b[43m)\u001b[49m\u001b[43m,\u001b[49m\u001b[43m \u001b[49m\u001b[38;5;241;43m*\u001b[39;49m\u001b[38;5;241;43m*\u001b[39;49m\u001b[43mkwargs\u001b[49m\u001b[43m)\u001b[49m\n\u001b[1;32m   1448\u001b[0m     bound \u001b[38;5;241m=\u001b[39m new_sig\u001b[38;5;241m.\u001b[39mbind(ax, \u001b[38;5;241m*\u001b[39margs, \u001b[38;5;241m*\u001b[39m\u001b[38;5;241m*\u001b[39mkwargs)\n\u001b[1;32m   1449\u001b[0m     auto_label \u001b[38;5;241m=\u001b[39m (bound\u001b[38;5;241m.\u001b[39marguments\u001b[38;5;241m.\u001b[39mget(label_namer)\n\u001b[1;32m   1450\u001b[0m                   \u001b[38;5;129;01mor\u001b[39;00m bound\u001b[38;5;241m.\u001b[39mkwargs\u001b[38;5;241m.\u001b[39mget(label_namer))\n",
      "File \u001b[0;32m~/conda/envs/image-analysis-23/lib/python3.10/site-packages/matplotlib/axes/_axes.py:5663\u001b[0m, in \u001b[0;36mAxes.imshow\u001b[0;34m(self, X, cmap, norm, aspect, interpolation, alpha, vmin, vmax, origin, extent, interpolation_stage, filternorm, filterrad, resample, url, **kwargs)\u001b[0m\n\u001b[1;32m   5655\u001b[0m \u001b[38;5;28mself\u001b[39m\u001b[38;5;241m.\u001b[39mset_aspect(aspect)\n\u001b[1;32m   5656\u001b[0m im \u001b[38;5;241m=\u001b[39m mimage\u001b[38;5;241m.\u001b[39mAxesImage(\u001b[38;5;28mself\u001b[39m, cmap\u001b[38;5;241m=\u001b[39mcmap, norm\u001b[38;5;241m=\u001b[39mnorm,\n\u001b[1;32m   5657\u001b[0m                       interpolation\u001b[38;5;241m=\u001b[39minterpolation, origin\u001b[38;5;241m=\u001b[39morigin,\n\u001b[1;32m   5658\u001b[0m                       extent\u001b[38;5;241m=\u001b[39mextent, filternorm\u001b[38;5;241m=\u001b[39mfilternorm,\n\u001b[1;32m   5659\u001b[0m                       filterrad\u001b[38;5;241m=\u001b[39mfilterrad, resample\u001b[38;5;241m=\u001b[39mresample,\n\u001b[1;32m   5660\u001b[0m                       interpolation_stage\u001b[38;5;241m=\u001b[39minterpolation_stage,\n\u001b[1;32m   5661\u001b[0m                       \u001b[38;5;241m*\u001b[39m\u001b[38;5;241m*\u001b[39mkwargs)\n\u001b[0;32m-> 5663\u001b[0m \u001b[43mim\u001b[49m\u001b[38;5;241;43m.\u001b[39;49m\u001b[43mset_data\u001b[49m\u001b[43m(\u001b[49m\u001b[43mX\u001b[49m\u001b[43m)\u001b[49m\n\u001b[1;32m   5664\u001b[0m im\u001b[38;5;241m.\u001b[39mset_alpha(alpha)\n\u001b[1;32m   5665\u001b[0m \u001b[38;5;28;01mif\u001b[39;00m im\u001b[38;5;241m.\u001b[39mget_clip_path() \u001b[38;5;129;01mis\u001b[39;00m \u001b[38;5;28;01mNone\u001b[39;00m:\n\u001b[1;32m   5666\u001b[0m     \u001b[38;5;66;03m# image does not already have clipping set, clip to axes patch\u001b[39;00m\n",
      "File \u001b[0;32m~/conda/envs/image-analysis-23/lib/python3.10/site-packages/matplotlib/image.py:710\u001b[0m, in \u001b[0;36m_ImageBase.set_data\u001b[0;34m(self, A)\u001b[0m\n\u001b[1;32m    706\u001b[0m     \u001b[38;5;28mself\u001b[39m\u001b[38;5;241m.\u001b[39m_A \u001b[38;5;241m=\u001b[39m \u001b[38;5;28mself\u001b[39m\u001b[38;5;241m.\u001b[39m_A[:, :, \u001b[38;5;241m0\u001b[39m]\n\u001b[1;32m    708\u001b[0m \u001b[38;5;28;01mif\u001b[39;00m \u001b[38;5;129;01mnot\u001b[39;00m (\u001b[38;5;28mself\u001b[39m\u001b[38;5;241m.\u001b[39m_A\u001b[38;5;241m.\u001b[39mndim \u001b[38;5;241m==\u001b[39m \u001b[38;5;241m2\u001b[39m\n\u001b[1;32m    709\u001b[0m         \u001b[38;5;129;01mor\u001b[39;00m \u001b[38;5;28mself\u001b[39m\u001b[38;5;241m.\u001b[39m_A\u001b[38;5;241m.\u001b[39mndim \u001b[38;5;241m==\u001b[39m \u001b[38;5;241m3\u001b[39m \u001b[38;5;129;01mand\u001b[39;00m \u001b[38;5;28mself\u001b[39m\u001b[38;5;241m.\u001b[39m_A\u001b[38;5;241m.\u001b[39mshape[\u001b[38;5;241m-\u001b[39m\u001b[38;5;241m1\u001b[39m] \u001b[38;5;129;01min\u001b[39;00m [\u001b[38;5;241m3\u001b[39m, \u001b[38;5;241m4\u001b[39m]):\n\u001b[0;32m--> 710\u001b[0m     \u001b[38;5;28;01mraise\u001b[39;00m \u001b[38;5;167;01mTypeError\u001b[39;00m(\u001b[38;5;124m\"\u001b[39m\u001b[38;5;124mInvalid shape \u001b[39m\u001b[38;5;132;01m{}\u001b[39;00m\u001b[38;5;124m for image data\u001b[39m\u001b[38;5;124m\"\u001b[39m\n\u001b[1;32m    711\u001b[0m                     \u001b[38;5;241m.\u001b[39mformat(\u001b[38;5;28mself\u001b[39m\u001b[38;5;241m.\u001b[39m_A\u001b[38;5;241m.\u001b[39mshape))\n\u001b[1;32m    713\u001b[0m \u001b[38;5;28;01mif\u001b[39;00m \u001b[38;5;28mself\u001b[39m\u001b[38;5;241m.\u001b[39m_A\u001b[38;5;241m.\u001b[39mndim \u001b[38;5;241m==\u001b[39m \u001b[38;5;241m3\u001b[39m:\n\u001b[1;32m    714\u001b[0m     \u001b[38;5;66;03m# If the input data has values outside the valid range (after\u001b[39;00m\n\u001b[1;32m    715\u001b[0m     \u001b[38;5;66;03m# normalisation), we issue a warning and then clip X to the bounds\u001b[39;00m\n\u001b[1;32m    716\u001b[0m     \u001b[38;5;66;03m# - otherwise casting wraps extreme values, hiding outliers and\u001b[39;00m\n\u001b[1;32m    717\u001b[0m     \u001b[38;5;66;03m# making reliable interpretation impossible.\u001b[39;00m\n\u001b[1;32m    718\u001b[0m     high \u001b[38;5;241m=\u001b[39m \u001b[38;5;241m255\u001b[39m \u001b[38;5;28;01mif\u001b[39;00m np\u001b[38;5;241m.\u001b[39missubdtype(\u001b[38;5;28mself\u001b[39m\u001b[38;5;241m.\u001b[39m_A\u001b[38;5;241m.\u001b[39mdtype, np\u001b[38;5;241m.\u001b[39minteger) \u001b[38;5;28;01melse\u001b[39;00m \u001b[38;5;241m1\u001b[39m\n",
      "\u001b[0;31mTypeError\u001b[0m: Invalid shape (60, 2, 256, 256) for image data"
     ]
    }
   ],
   "source": [
    "plt.imshow(cells)"
   ]
  },
  {
   "cell_type": "code",
   "execution_count": 9,
   "id": "cb68b681",
   "metadata": {},
   "outputs": [],
   "source": [
    "viewer, layer = napari.imshow(\n",
    "        cells,\n",
    "        channel_axis=1,\n",
    "        scale=[0.29, 0.26, 0.26],\n",
    "        )"
   ]
  },
  {
   "cell_type": "markdown",
   "id": "77141a50",
   "metadata": {},
   "source": [
    "## 3. a *lazy* viewer"
   ]
  },
  {
   "cell_type": "markdown",
   "id": "2d3f0efc",
   "metadata": {},
   "source": [
    "Tribolium castaneum light sheet microscopy data from the [Cell tracking challenge](http://celltrackingchallenge.net/3d-datasets/) contributed by Akanksha Jain, MPI-CBG Dresden."
   ]
  },
  {
   "cell_type": "code",
   "execution_count": 10,
   "id": "0b0e8879",
   "metadata": {},
   "outputs": [
    {
     "name": "stdout",
     "output_type": "stream",
     "text": [
      "213.49715712\n"
     ]
    }
   ],
   "source": [
    "import zarr\n",
    "\n",
    "image = zarr.open('/Users/jni/data/Fluo-N3DL-TRIF/01.ome.zarr/0/')\n",
    "\n",
    "print(image.nbytes / 1e9)"
   ]
  },
  {
   "cell_type": "code",
   "execution_count": 11,
   "id": "bfcae9c7",
   "metadata": {},
   "outputs": [
    {
     "name": "stdout",
     "output_type": "stream",
     "text": [
      "(60, 988, 1868, 964)\n"
     ]
    }
   ],
   "source": [
    "print(image.shape)"
   ]
  },
  {
   "cell_type": "code",
   "execution_count": 12,
   "id": "fe04b3fa",
   "metadata": {},
   "outputs": [
    {
     "name": "stdout",
     "output_type": "stream",
     "text": [
      "(1, 64, 512, 512)\n"
     ]
    }
   ],
   "source": [
    "print(image.chunks)"
   ]
  },
  {
   "cell_type": "code",
   "execution_count": 14,
   "id": "c15f719d",
   "metadata": {},
   "outputs": [],
   "source": [
    "viewer, layer = napari.imshow(image)"
   ]
  },
  {
   "cell_type": "code",
   "execution_count": 15,
   "id": "93fdb381",
   "metadata": {},
   "outputs": [
    {
     "data": {
      "text/plain": [
       "[1.0, 10998.88111888112]"
      ]
     },
     "execution_count": 15,
     "metadata": {},
     "output_type": "execute_result"
    }
   ],
   "source": [
    "layer.contrast_limits"
   ]
  },
  {
   "cell_type": "code",
   "execution_count": 16,
   "id": "36926d9b",
   "metadata": {},
   "outputs": [],
   "source": [
    "layer.contrast_limits = 1000, 6000"
   ]
  },
  {
   "cell_type": "code",
   "execution_count": 17,
   "id": "74a6807b",
   "metadata": {},
   "outputs": [],
   "source": [
    "layer.colormap = 'magma'"
   ]
  },
  {
   "cell_type": "markdown",
   "id": "7550afcd",
   "metadata": {},
   "source": [
    "## 3. a *multiscale* viewer"
   ]
  },
  {
   "cell_type": "code",
   "execution_count": 18,
   "id": "d9b37d16",
   "metadata": {},
   "outputs": [],
   "source": [
    "image1 = zarr.open('/Users/jni/data/Fluo-N3DL-TRIF/01.ome.zarr/1/')\n",
    "image2 = zarr.open('/Users/jni/data/Fluo-N3DL-TRIF/01.ome.zarr/2/')\n",
    "\n",
    "del viewer.layers['image']\n",
    "\n",
    "layer_multi = viewer.add_image(\n",
    "        [image, image1, image2],\n",
    "        rendering='attenuated_mip',\n",
    "        name='tribolium',\n",
    "        )"
   ]
  },
  {
   "cell_type": "markdown",
   "id": "42f91e7f",
   "metadata": {},
   "source": [
    "... Slides..."
   ]
  },
  {
   "cell_type": "markdown",
   "id": "b80dd83f",
   "metadata": {},
   "source": [
    "## 4. a *layered* viewer"
   ]
  },
  {
   "cell_type": "markdown",
   "id": "df4d2e00",
   "metadata": {},
   "source": [
    "### cryoET demo from napari core developer Alister Burt\n",
    "https://github.com/alisterburt/napari-cryo-et-demo"
   ]
  },
  {
   "cell_type": "code",
   "execution_count": 19,
   "id": "b465f200",
   "metadata": {},
   "outputs": [
    {
     "data": {
      "text/plain": [
       "<Vectors layer 'vectors' at 0x2a3706c50>"
      ]
     },
     "execution_count": 19,
     "metadata": {},
     "output_type": "execute_result"
    }
   ],
   "source": [
    "import mrcfile\n",
    "import napari\n",
    "import numpy as np\n",
    "import starfile\n",
    "from scipy.spatial.transform import Rotation as R\n",
    "\n",
    "# files containing data\n",
    "tomogram_file = '/Users/jni/data/napari-cryo-et-demo/hiv/01_10.00Apx.mrc'\n",
    "particles_file = '/Users/jni/data/napari-cryo-et-demo/hiv/01_10.00Apx_particles.star'\n",
    "\n",
    "# loading data into memory\n",
    "# tomogram is a numpy array containing image array data\n",
    "# df is a pandas DataFrame containing table of info from STAR file\n",
    "with mrcfile.open(tomogram_file) as mrc:\n",
    "    tomogram = mrc.data.copy()\n",
    "df = starfile.read(particles_file)\n",
    "\n",
    "# get particle positions as (n, 3) numpy array from DataFrame\n",
    "xyz = df[\n",
    "        ['rlnCoordinateX', 'rlnCoordinateY', 'rlnCoordinateZ']\n",
    "        ].to_numpy()\n",
    "\n",
    "# get particle orientations as Euler angles from DataFrame\n",
    "euler_angles = df[\n",
    "        ['rlnAngleRot', 'rlnAngleTilt', 'rlnAnglePsi']\n",
    "        ].to_numpy()\n",
    "\n",
    "# turn Euler angles into a scipy 'Rotation' object, rotate Z vectors to see\n",
    "# where they point for the aligned particle\n",
    "rotations = R.from_euler(\n",
    "        seq='ZYZ', angles=euler_angles, degrees=True\n",
    "        ).inv()\n",
    "rotated_z_vectors = rotations.apply([0, 0, 1])\n",
    "\n",
    "# set up napari vectors layer data\n",
    "# (n, 2, 3) array\n",
    "# dim 0: batch dimension\n",
    "# dim 1: first row is start point of vector,\n",
    "#        second is direction vector\n",
    "# dim 2: components of direction vector e.g. (x, y, z)\n",
    "zyx = xyz[:, ::-1]\n",
    "direction_zyx = rotated_z_vectors[:, ::-1]\n",
    "vectors = np.stack((zyx, direction_zyx), axis=1)\n",
    "\n",
    "# instantiate a napari viewer\n",
    "viewer = napari.Viewer()\n",
    "\n",
    "# add data to viewer\n",
    "viewer.add_image(\n",
    "        tomogram,\n",
    "        blending='translucent_no_depth',\n",
    "        colormap='gray_r',\n",
    "        )\n",
    "viewer.add_points(\n",
    "        zyx,\n",
    "        face_color='cornflowerblue',\n",
    "        size=10,\n",
    "        )\n",
    "viewer.add_vectors(\n",
    "        vectors, length=10, edge_color='orange'\n",
    "        )\n",
    "# napari.run()"
   ]
  },
  {
   "cell_type": "markdown",
   "id": "756ef2c4",
   "metadata": {},
   "source": [
    "### Coral photogrammetry data\n",
    "\n",
    "Data by Emmanuel Reynaud (University College Dublin) and Luis Gutierrez, at https://doi.org/10.6084/m9.figshare.22348645.  \n",
    "Demo and implementation by Ashley Anderson (CZI).\n",
    "\n",
    "`examples/surface_multi_texture.py`"
   ]
  },
  {
   "cell_type": "code",
   "execution_count": 20,
   "id": "91d4cbfa",
   "metadata": {},
   "outputs": [
    {
     "name": "stderr",
     "output_type": "stream",
     "text": [
      "WARNING: Notice reading .OBJ: material properties are ignored.\n"
     ]
    }
   ],
   "source": [
    "import os\n",
    "import pooch\n",
    "from vispy.io import imread, read_mesh\n",
    "\n",
    "# Download the model\n",
    "# ------------------\n",
    "download = pooch.DOIDownloader(progressbar=True)\n",
    "doi = \"10.6084/m9.figshare.22348645.v1\"\n",
    "tmp_dir = pooch.os_cache(\"napari-surface-texture-example\")\n",
    "os.makedirs(tmp_dir, exist_ok=True)\n",
    "data_files = {\n",
    "    \"mesh\": \"PocilloporaDamicornisSkin.obj\",\n",
    "    # \"materials\": \"PocilloporaVerrugosaSkinCrop.mtl\",  # not yet supported\n",
    "    \"Texture_0\": \"PocilloporaDamicornisSkin_Texture_0.jpg\",\n",
    "    \"GeneratedMat2\": \"PocilloporaDamicornisSkin_GeneratedMat2.png\",\n",
    "}\n",
    "for file_name in data_files.values():\n",
    "    if not (tmp_dir / file_name).exists():\n",
    "        download(f\"doi:{doi}/{file_name}\",\n",
    "                output_file=tmp_dir / file_name,\n",
    "                pooch=None,\n",
    "                )\n",
    "\n",
    "\n",
    "# Load the model\n",
    "vertices, faces, _normals, texcoords = read_mesh(\n",
    "        tmp_dir / data_files[\"mesh\"]\n",
    "        )\n",
    "\n",
    "# Load the textures\n",
    "photo_texture = imread(tmp_dir / data_files[\"Texture_0\"])\n",
    "generated_texture = imread(tmp_dir / data_files[\"GeneratedMat2\"])\n",
    "\n",
    "viewer = napari.Viewer(ndisplay=3)\n",
    "\n",
    "photo_texture_layer = viewer.add_surface(\n",
    "        (vertices, faces),\n",
    "        texture=photo_texture,\n",
    "        texcoords=texcoords,\n",
    "        name=\"Texture_0\",\n",
    "        )\n",
    "generated_texture_layer = viewer.add_surface(\n",
    "        (vertices, faces),\n",
    "        texture=generated_texture,\n",
    "        texcoords=texcoords,\n",
    "        name=\"GeneratedMat2\",\n",
    "        )\n",
    "\n",
    "# deselect layers to avoid performance bug 😬\n",
    "viewer.layers.selection = {}"
   ]
  },
  {
   "cell_type": "markdown",
   "id": "d4bf99eb",
   "metadata": {},
   "source": [
    "## 5. an *annotation* and *proofreading* tool"
   ]
  },
  {
   "cell_type": "markdown",
   "id": "4f31e2cf",
   "metadata": {},
   "source": [
    "### interactive segmentation of 3D cells\n",
    "\n",
    "Semi-automated methods in Python."
   ]
  },
  {
   "cell_type": "code",
   "execution_count": 21,
   "id": "73e229bc",
   "metadata": {},
   "outputs": [],
   "source": [
    "viewer, (membrane_layer, nuclei_layer) = napari.imshow(\n",
    "        cells,\n",
    "        channel_axis=1,\n",
    "        name=['membrane', 'nuclei'],\n",
    "        )"
   ]
  },
  {
   "cell_type": "code",
   "execution_count": 22,
   "id": "6f45942e",
   "metadata": {},
   "outputs": [],
   "source": [
    "# grab individual channels and convert to float in [0, 1]\n",
    "\n",
    "membranes = cells[:, 0, :, :] / np.max(cells)\n",
    "nuclei = cells[:, 1, :, :] / np.max(cells)"
   ]
  },
  {
   "cell_type": "code",
   "execution_count": 23,
   "id": "9579331d",
   "metadata": {},
   "outputs": [],
   "source": [
    "from skimage import filters\n",
    "\n",
    "\n",
    "edges = filters.farid(nuclei)\n",
    "\n",
    "edges_layer = viewer.add_image(\n",
    "        edges,\n",
    "        blending='additive',\n",
    "        colormap='yellow',\n",
    "        )"
   ]
  },
  {
   "cell_type": "code",
   "execution_count": 24,
   "id": "25e4a322",
   "metadata": {},
   "outputs": [],
   "source": [
    "from scipy import ndimage as ndi\n",
    "\n",
    "denoised = ndi.median_filter(nuclei, size=3)"
   ]
  },
  {
   "cell_type": "code",
   "execution_count": 25,
   "id": "4b6fcdc0",
   "metadata": {},
   "outputs": [],
   "source": [
    "li_thresholded = denoised > filters.threshold_li(denoised)\n",
    "\n",
    "threshold_layer = viewer.add_image(\n",
    "        li_thresholded,\n",
    "        opacity=0.3,\n",
    "        )"
   ]
  },
  {
   "cell_type": "code",
   "execution_count": 26,
   "id": "48a87fc4",
   "metadata": {},
   "outputs": [],
   "source": [
    "from skimage import morphology\n",
    "\n",
    "width = 20\n",
    "\n",
    "holes_removed = morphology.remove_small_holes(\n",
    "        li_thresholded, width ** 3\n",
    "        )\n",
    "\n",
    "speckle_removed = morphology.remove_small_objects(\n",
    "        holes_removed, width ** 3\n",
    "        )\n",
    "\n",
    "viewer.layers[-1].visible = False\n",
    "\n",
    "viewer.add_image(\n",
    "        speckle_removed,\n",
    "        name='cleaned',\n",
    "        opacity=0.3,\n",
    "        );"
   ]
  },
  {
   "cell_type": "code",
   "execution_count": 27,
   "id": "1cd018cc",
   "metadata": {},
   "outputs": [
    {
     "data": {
      "text/plain": [
       "<Labels layer 'labels' at 0x2a65bd4b0>"
      ]
     },
     "execution_count": 27,
     "metadata": {},
     "output_type": "execute_result"
    }
   ],
   "source": [
    "from skimage import measure\n",
    "\n",
    "labels = measure.label(speckle_removed)\n",
    "\n",
    "viewer.layers[-1].visible = False\n",
    "viewer.add_labels(\n",
    "        labels,\n",
    "        opacity=0.5,\n",
    "        blending='translucent_no_depth'\n",
    "        )\n"
   ]
  },
  {
   "cell_type": "code",
   "execution_count": 28,
   "id": "958627fe",
   "metadata": {},
   "outputs": [],
   "source": [
    "# Sean's solution\n",
    "from scipy import ndimage as ndi\n",
    "from skimage.feature import peak_local_max\n",
    "\n",
    "spacing = [0.29, 0.26, 0.26]\n",
    "distances = ndi.distance_transform_edt(\n",
    "    speckle_removed, sampling=spacing\n",
    ")\n",
    "dt_smoothed = filters.gaussian(distances, sigma=5)\n",
    "peaks = peak_local_max(dt_smoothed, min_distance=5)\n",
    "\n",
    "pts_layer = viewer.add_points(\n",
    "        peaks,\n",
    "        name=\"sean's points\",\n",
    "        size=4,\n",
    "        n_dimensional=True,  # points have 3D \"extent\"\n",
    "        )"
   ]
  },
  {
   "cell_type": "code",
   "execution_count": 29,
   "id": "e2ca21fe",
   "metadata": {},
   "outputs": [
    {
     "data": {
      "text/plain": [
       "array([[ 35.        ,  98.        , 160.        ],\n",
       "       [ 36.        ,  13.        , 152.        ],\n",
       "       [ 35.        , 158.        , 110.        ],\n",
       "       [ 35.        , 219.        ,  84.        ],\n",
       "       [ 34.        , 184.        ,  49.        ],\n",
       "       [ 33.        , 237.        , 129.        ],\n",
       "       [ 34.        ,  71.        , 111.        ],\n",
       "       [ 35.        , 146.        , 243.        ],\n",
       "       [ 36.        ,  47.        , 182.        ],\n",
       "       [ 36.        ,  34.        ,  76.        ],\n",
       "       [ 35.        ,  11.        ,  21.        ],\n",
       "       [ 38.        , 140.        ,  38.        ],\n",
       "       [ 35.        ,  51.        , 231.        ],\n",
       "       [ 32.        , 202.        , 169.        ],\n",
       "       [ 35.        , 143.        , 192.        ],\n",
       "       [ 41.        ,  78.        ,  59.        ],\n",
       "       [ 41.        ,  98.        ,  49.        ],\n",
       "       [ 35.        , 103.88632664, 251.68014107],\n",
       "       [ 35.        , 219.73223006, 250.01329354],\n",
       "       [ 35.        , 252.23575692, 205.84183397]])"
      ]
     },
     "execution_count": 29,
     "metadata": {},
     "output_type": "execute_result"
    }
   ],
   "source": [
    "points_data = pts_layer.data\n",
    "points_data"
   ]
  },
  {
   "cell_type": "code",
   "execution_count": 30,
   "id": "e881f2eb",
   "metadata": {},
   "outputs": [],
   "source": [
    "from skimage import segmentation, util\n",
    "\n",
    "markers = util.label_points(points_data, nuclei.shape)\n",
    "markers_big = morphology.dilation(markers, morphology.ball(5))\n",
    "\n",
    "segmented = segmentation.watershed(\n",
    "        edges, markers_big, mask=speckle_removed,\n",
    "        )\n",
    "\n",
    "seg_layer = viewer.add_labels(\n",
    "        segmented, blending='translucent_no_depth',\n",
    "        )\n",
    "\n",
    "viewer.layers['labels'].visible = False"
   ]
  },
  {
   "cell_type": "markdown",
   "id": "e488961d",
   "metadata": {},
   "source": [
    "... Slides..."
   ]
  },
  {
   "cell_type": "markdown",
   "id": "08545456",
   "metadata": {},
   "source": [
    "## 6. lazy annotation, thank you zarr! 🧊❤️🙏"
   ]
  },
  {
   "cell_type": "code",
   "execution_count": 31,
   "id": "f22c6a07",
   "metadata": {},
   "outputs": [
    {
     "data": {
      "text/plain": [
       "(zarr.core.Array, (60, 988, 1868, 964), 213.49715712)"
      ]
     },
     "execution_count": 31,
     "metadata": {},
     "output_type": "execute_result"
    }
   ],
   "source": [
    "type(image), image.shape, image.nbytes / 1e9"
   ]
  },
  {
   "cell_type": "code",
   "execution_count": 32,
   "id": "57492adb",
   "metadata": {},
   "outputs": [],
   "source": [
    "viewer = napari.Viewer()\n",
    "layer_multi = viewer.add_image(\n",
    "        [image, image1, image2],\n",
    "        rendering='attenuated_mip',\n",
    "        name='tribolium',\n",
    "        )\n",
    "\n",
    "labels = zarr.open(\n",
    "        '/Users/jni/data/Fluo-N3DL-TRIF/01-labels.zarr',\n",
    "        dtype=np.uint32,\n",
    "        shape=image.shape,\n",
    "        write_empty_chunks=False,\n",
    "        chunks=image.chunks,\n",
    "        )"
   ]
  },
  {
   "cell_type": "code",
   "execution_count": 33,
   "id": "0aed834d",
   "metadata": {},
   "outputs": [
    {
     "name": "stdout",
     "output_type": "stream",
     "text": [
      "\u001b[1m\u001b[36m.\u001b[m\u001b[m                     \u001b[1m\u001b[36m01_GT\u001b[m\u001b[m                 random.mov\r\n",
      "\u001b[1m\u001b[36m..\u001b[m\u001b[m                    \u001b[1m\u001b[36m02\u001b[m\u001b[m                    random.png\r\n",
      ".DS_Store             \u001b[1m\u001b[36m02_GT\u001b[m\u001b[m                 random2.png\r\n",
      "\u001b[1m\u001b[36m01\u001b[m\u001b[m                    anim-random.py        random3.png\r\n",
      "\u001b[1m\u001b[36m01-labels.zarr\u001b[m\u001b[m        anim.py               random4.png\r\n",
      "\u001b[1m\u001b[36m01.ome.zarr\u001b[m\u001b[m           backup-anim-random.py tribolium.mov\r\n"
     ]
    }
   ],
   "source": [
    "!ls -a /Users/jni/data/Fluo-N3DL-TRIF/"
   ]
  },
  {
   "cell_type": "code",
   "execution_count": 34,
   "id": "76e74bb4",
   "metadata": {},
   "outputs": [
    {
     "name": "stdout",
     "output_type": "stream",
     "text": [
      "\u001b[1m\u001b[36m.\u001b[m\u001b[m       \u001b[1m\u001b[36m..\u001b[m\u001b[m      .zarray\r\n"
     ]
    }
   ],
   "source": [
    "!ls -a /Users/jni/data/Fluo-N3DL-TRIF/01-labels.zarr"
   ]
  },
  {
   "cell_type": "code",
   "execution_count": 35,
   "id": "c5308182",
   "metadata": {},
   "outputs": [
    {
     "data": {
      "text/plain": [
       "(60, 988, 1868, 964)"
      ]
     },
     "execution_count": 35,
     "metadata": {},
     "output_type": "execute_result"
    }
   ],
   "source": [
    "labels.shape"
   ]
  },
  {
   "cell_type": "code",
   "execution_count": 36,
   "id": "2f17ea4a",
   "metadata": {},
   "outputs": [],
   "source": [
    "layer = viewer.add_labels(labels)"
   ]
  },
  {
   "cell_type": "code",
   "execution_count": 37,
   "id": "deab49bf",
   "metadata": {},
   "outputs": [
    {
     "name": "stdout",
     "output_type": "stream",
     "text": [
      "\u001b[1m\u001b[36m.\u001b[m\u001b[m        \u001b[1m\u001b[36m..\u001b[m\u001b[m       .zarray  29.7.1.0\r\n"
     ]
    }
   ],
   "source": [
    "!ls -a /Users/jni/data/Fluo-N3DL-TRIF/01-labels.zarr"
   ]
  },
  {
   "cell_type": "code",
   "execution_count": 38,
   "id": "7d20d1a9",
   "metadata": {},
   "outputs": [],
   "source": [
    "!rm -rf /Users/jni/data/Fluo-N3DL-TRIF/01-labels.zarr"
   ]
  },
  {
   "cell_type": "markdown",
   "id": "87fc2185",
   "metadata": {},
   "source": [
    "## 7. plays well with others"
   ]
  },
  {
   "cell_type": "markdown",
   "id": "ec08670a",
   "metadata": {},
   "source": [
    "napariboard"
   ]
  },
  {
   "cell_type": "code",
   "execution_count": 39,
   "id": "582b5d32",
   "metadata": {},
   "outputs": [],
   "source": [
    "!python /Users/jni/projects/napariboard-proto/napariboard.py"
   ]
  },
  {
   "cell_type": "markdown",
   "id": "afc69b12",
   "metadata": {},
   "source": [
    "## 8. extensible with plugins"
   ]
  },
  {
   "cell_type": "code",
   "execution_count": 40,
   "id": "06e066e6",
   "metadata": {},
   "outputs": [],
   "source": [
    "viewer = napari.Viewer()"
   ]
  },
  {
   "cell_type": "code",
   "execution_count": 41,
   "id": "284450dd",
   "metadata": {},
   "outputs": [
    {
     "data": {
      "text/plain": [
       "[<Image layer 'tribolium' at 0x2d2dcba90>]"
      ]
     },
     "execution_count": 41,
     "metadata": {},
     "output_type": "execute_result"
    }
   ],
   "source": [
    "viewer.open(\n",
    "        '/Users/jni/data/Fluo-N3DL-TRIF/01.ome.zarr',\n",
    "        plugin='napari-ome-zarr',\n",
    "        )"
   ]
  },
  {
   "cell_type": "markdown",
   "id": "b7109e59",
   "metadata": {},
   "source": [
    "napari-pdf-reader (I shit you not 😂)"
   ]
  },
  {
   "cell_type": "code",
   "execution_count": 42,
   "id": "f3a21ee8",
   "metadata": {},
   "outputs": [
    {
     "name": "stdout",
     "output_type": "stream",
     "text": [
      "/Users/jni/projects/napari/napari/_vispy/layers/image.py:258: UserWarning: data shape (8, 3300, 2550, 3) exceeds GL_MAX_TEXTURE_SIZE 2048 in at least one axis and will be downsampled. Rendering is currently in 3D mode.!\r\n"
     ]
    }
   ],
   "source": [
    "!napari ./data/project_jupyter.pdf"
   ]
  },
  {
   "cell_type": "markdown",
   "id": "9270f866",
   "metadata": {},
   "source": [
    "... slides ..."
   ]
  }
 ],
 "metadata": {
  "kernelspec": {
   "display_name": "Python 3 (ipykernel)",
   "language": "python",
   "name": "python3"
  },
  "language_info": {
   "codemirror_mode": {
    "name": "ipython",
    "version": 3
   },
   "file_extension": ".py",
   "mimetype": "text/x-python",
   "name": "python",
   "nbconvert_exporter": "python",
   "pygments_lexer": "ipython3",
   "version": "3.10.8"
  }
 },
 "nbformat": 4,
 "nbformat_minor": 5
}
